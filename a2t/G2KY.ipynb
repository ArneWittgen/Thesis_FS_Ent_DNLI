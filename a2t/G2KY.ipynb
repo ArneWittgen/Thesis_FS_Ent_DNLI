{
 "cells": [
  {
   "cell_type": "code",
   "execution_count": 1,
   "metadata": {},
   "outputs": [],
   "source": [
    "import json\n",
    "import ast\n",
    "import random\n",
    "import seaborn as sns"
   ]
  },
  {
   "cell_type": "code",
   "execution_count": 2,
   "metadata": {},
   "outputs": [],
   "source": [
    "p_train = r\"D:\\Documents\\Uni\\3\\Thesis\\Data\\GettingToKnowYou\\train.txt\"\n",
    "p_train_conv = r\"D:\\Documents\\Uni\\3\\Thesis\\Data\\GettingToKnowYou\\train.json\"\n",
    "\n",
    "p_dev = r\"D:\\Documents\\Uni\\3\\Thesis\\Data\\GettingToKnowYou\\dev.txt\"\n",
    "p_dev_conv = r\"D:\\Documents\\Uni\\3\\Thesis\\Data\\GettingToKnowYou\\dev.json\"\n",
    "\n",
    "p_test = r\"D:\\Documents\\Uni\\3\\Thesis\\Data\\GettingToKnowYou\\test.txt\"\n",
    "p_test_conv = r\"D:\\Documents\\Uni\\3\\Thesis\\Data\\GettingToKnowYou\\test.json\"\n",
    "\n",
    "# sample paths:\n",
    "sample_paths = [\n",
    "    [\n",
    "        r\"D:\\Documents\\Uni\\3\\Thesis\\Data\\GettingToKnowYou\\train_k4.json\",\n",
    "        r\"D:\\Documents\\Uni\\3\\Thesis\\Data\\GettingToKnowYou\\train_k16.json\",\n",
    "        r\"D:\\Documents\\Uni\\3\\Thesis\\Data\\GettingToKnowYou\\train_k32.json\"  \n",
    "    ],\n",
    "    [\n",
    "        r\"D:\\Documents\\Uni\\3\\Thesis\\Data\\GettingToKnowYou\\dev_k4.json\",\n",
    "        r\"D:\\Documents\\Uni\\3\\Thesis\\Data\\GettingToKnowYou\\dev_k16.json\",\n",
    "        r\"D:\\Documents\\Uni\\3\\Thesis\\Data\\GettingToKnowYou\\dev_k32.json\"\n",
    "    ]\n",
    "]\n",
    "\n",
    "\n",
    "orig_paths = [p_train, p_dev, p_test]\n",
    "conv_paths = [p_train_conv, p_dev_conv, p_test_conv]"
   ]
  },
  {
   "cell_type": "code",
   "execution_count": 3,
   "metadata": {},
   "outputs": [],
   "source": [
    "def create_element(premise, attribute = None):\n",
    "    element = {}\n",
    "    element['premise'] = premise\n",
    "    if attribute == None:\n",
    "        element['relation'] = 'no_relation'\n",
    "        element['subj'] = 'dummy'\n",
    "        element['obj'] = 'dummy'\n",
    "    else:\n",
    "        element['relation'] = attribute[1]\n",
    "        element['subj'] = attribute[0]\n",
    "        element['obj'] = attribute[2]\n",
    "    return element\n",
    "\n",
    "def convert_data(line, counter):\n",
    "    invalid_relations = [\"other\", \"<blank>\"]\n",
    "    elements = []\n",
    "    # tab is used as delimiter, so the line can be easily split into the separate parts\n",
    "    line_split = line.split(\"\\t\")\n",
    "    # first entry is conversation turn, which is not needed.\n",
    "    # second entry is the actual utterance.\n",
    "    # third until last entry are the attributes that are annotated.\n",
    "    # if there are multiple attributes, each is converted into a separate relation instance\n",
    "    # (with the same premise)\n",
    "    premise = line_split[1]\n",
    "    if len(line_split) == 2:\n",
    "        elements.append(create_element(premise.strip()))\n",
    "    else:\n",
    "        attributes = [ast.literal_eval(x.strip()) for x in line_split[2:len(line_split)]]\n",
    "        for attribute in attributes:\n",
    "            if attribute[1] not in invalid_relations:\n",
    "                elements.append(create_element(premise, attribute))\n",
    "            else:\n",
    "                counter +=1\n",
    "    return elements, counter"
   ]
  },
  {
   "cell_type": "code",
   "execution_count": 4,
   "metadata": {},
   "outputs": [
    {
     "name": "stdout",
     "output_type": "stream",
     "text": [
      "4233\n",
      "539\n",
      "525\n"
     ]
    }
   ],
   "source": [
    "for i in range(3):\n",
    "    p_orig = orig_paths[i]\n",
    "    p_conv = conv_paths[i]\n",
    "    cleaned_data = []\n",
    "    with open(p_orig) as file:\n",
    "        counter = 0\n",
    "        for line in file:\n",
    "            if 'persona' not in line:\n",
    "                line_clean, counter = convert_data(line, counter)\n",
    "                cleaned_data.extend(line_clean)\n",
    "        print(counter)\n",
    "    #with open(p_conv, \"wt\") as f:\n",
    "    #    f.write(json.dumps(cleaned_data))"
   ]
  },
  {
   "cell_type": "code",
   "execution_count": 5,
   "metadata": {},
   "outputs": [],
   "source": [
    "def load_relations(path):\n",
    "    relations = {}\n",
    "    # add each element to corresponding label\n",
    "    with open(path, \"r\", encoding=\"utf-8\") as f:\n",
    "            dataset = json.loads(f.read())\n",
    "            total_size = len(dataset)\n",
    "            for entry in dataset:\n",
    "                rel = entry['relation']\n",
    "                if rel not in relations.keys():\n",
    "                    relations[rel] = []\n",
    "                relations[rel].append(entry)\n",
    "    return relations"
   ]
  },
  {
   "cell_type": "code",
   "execution_count": 9,
   "metadata": {},
   "outputs": [],
   "source": [
    "labels = [\n",
    "        \"has_profession\",\n",
    "        \"employed_by_general\",\n",
    "        \"like_food\",\n",
    "        \"physical_attribute\",\n",
    "        \"place_origin\",\n",
    "        \"like_read\",\n",
    "        \"have\",\n",
    "        \"have_chidren\",\n",
    "        \"like_activity\",\n",
    "        \"have_sibling\",\n",
    "        \"like_drink\",\n",
    "        \"marital_status\",\n",
    "        \"live_in_citystatecountry\",\n",
    "        \"employed_by_company\",\n",
    "        \"teach\", \"dislike\",\n",
    "        \"attend_school\",\n",
    "        \"like_music\",\n",
    "        \"job_status\",\n",
    "        \"favorite_season\",\n",
    "        \"like_animal\",\n",
    "        \"want_do\",\n",
    "        \"have_pet\",\n",
    "        \"own\",\n",
    "        \"favorite_activity\",\n",
    "        \"has_hobby\",\n",
    "        \"has_ability\",\n",
    "        \"school_status\",\n",
    "        \"favorite_color\",\n",
    "        \"favorite_music\",\n",
    "        \"has_age\",\n",
    "        \"misc_attribute\",\n",
    "        \"live_in_general\",\n",
    "        \"gender\",\n",
    "        \"favorite_food\",\n",
    "        \"like_general\",\n",
    "        \"previous_profession\",\n",
    "        \"have_vehicle\",\n",
    "        \"like_sports\",\n",
    "        \"favorite_drink\",\n",
    "        \"favorite_animal\",\n",
    "        \"has_degree\",\n",
    "        \"like_goto\",\n",
    "        \"favorite_music_artist\",\n",
    "        \"want\",\n",
    "        \"want_job\",\n",
    "        \"like_watching\",\n",
    "        \"favorite_sport\",\n",
    "        \"member_of\",\n",
    "        \"have_family\",\n",
    "        \"not_have\",\n",
    "        \"favorite_show\",\n",
    "        \"like_movie\",\n",
    "        \"favorite_hobby\",\n",
    "        \"favorite\",\n",
    "        \"nationality\",\n",
    "        \"favorite_movie\",\n",
    "        \"favorite_place\",\n",
    "        \"favorite_book\"\n",
    "    ]"
   ]
  },
  {
   "cell_type": "code",
   "execution_count": 7,
   "metadata": {},
   "outputs": [],
   "source": [
    "ks = [4,16,32]\n",
    "for i in range(2):\n",
    "    relations = load_relations(conv_paths[i])\n",
    "    if i ==2:\n",
    "        print(relations.keys())\n",
    "    for j in range(3):\n",
    "        samples = []\n",
    "        for key in relations.keys():\n",
    "            if key == 'no_relation':\n",
    "                continue\n",
    "            if ks[j] < len(relations[key]):\n",
    "                samples.extend(random.sample(relations[key], k=ks[j]))\n",
    "            else:\n",
    "                samples.extend(relations[key])\n",
    "        samples.extend(random.sample(relations['no_relation'], k=len(samples)))\n",
    "        with open(sample_paths[i][j], \"wt\") as f:\n",
    "            f.write(json.dumps(samples))"
   ]
  },
  {
   "cell_type": "code",
   "execution_count": 10,
   "metadata": {},
   "outputs": [
    {
     "data": {
      "text/plain": [
       "56"
      ]
     },
     "execution_count": 10,
     "metadata": {},
     "output_type": "execute_result"
    }
   ],
   "source": [
    "relations = load_relations(p_test_conv)\n",
    "len(relations.keys())"
   ]
  },
  {
   "cell_type": "code",
   "execution_count": 14,
   "metadata": {},
   "outputs": [
    {
     "name": "stdout",
     "output_type": "stream",
     "text": [
      "no_relation\n",
      "nationality\n",
      "favorite_movie\n",
      "favorite_place\n",
      "favorite_book\n"
     ]
    }
   ],
   "source": [
    "for key in relations.keys():\n",
    "    if key not in labels:\n",
    "        print(key)\n",
    "for label in labels:\n",
    "    if label not in relations.keys():\n",
    "        print(label)"
   ]
  },
  {
   "cell_type": "code",
   "execution_count": 12,
   "metadata": {},
   "outputs": [
    {
     "data": {
      "text/plain": [
       "59"
      ]
     },
     "execution_count": 12,
     "metadata": {},
     "output_type": "execute_result"
    }
   ],
   "source": [
    "len(labels)"
   ]
  },
  {
   "cell_type": "code",
   "execution_count": null,
   "metadata": {},
   "outputs": [],
   "source": []
  }
 ],
 "metadata": {
  "kernelspec": {
   "display_name": "Python 3",
   "language": "python",
   "name": "python3"
  },
  "language_info": {
   "codemirror_mode": {
    "name": "ipython",
    "version": 3
   },
   "file_extension": ".py",
   "mimetype": "text/x-python",
   "name": "python",
   "nbconvert_exporter": "python",
   "pygments_lexer": "ipython3",
   "version": "3.8.5"
  }
 },
 "nbformat": 4,
 "nbformat_minor": 4
}
